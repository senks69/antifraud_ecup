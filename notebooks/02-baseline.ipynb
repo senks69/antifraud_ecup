{
 "cells": [
  {
   "cell_type": "code",
   "execution_count": 1,
   "id": "2d0e954b",
   "metadata": {},
   "outputs": [],
   "source": [
    "from pathlib import Path\n",
    "import pandas as pd\n",
    "import numpy as np\n",
    "from sklearn.model_selection import train_test_split\n",
    "from sklearn.ensemble import RandomForestClassifier\n",
    "from sklearn.metrics import f1_score\n",
    "from lightgbm import LGBMClassifier"
   ]
  },
  {
   "cell_type": "code",
   "execution_count": 2,
   "id": "7f0a3db6",
   "metadata": {},
   "outputs": [],
   "source": [
    "DATA_DIR = Path().resolve().parent / \"data\"\n",
    "train_csv = DATA_DIR / \"raw\" / \"ml_ozon_сounterfeit_train.csv\"\n",
    "test_csv = DATA_DIR / \"raw\" / \"ml_ozon_сounterfeit_test.csv\" \n",
    "\n",
    "df_train = pd.read_csv(train_csv)\n",
    "df_test = pd.read_csv(test_csv)"
   ]
  },
  {
   "cell_type": "code",
   "execution_count": 3,
   "id": "3c21891b-235a-4fae-b988-1f34e91425a9",
   "metadata": {},
   "outputs": [
    {
     "name": "stdout",
     "output_type": "stream",
     "text": [
      "<class 'pandas.core.frame.DataFrame'>\n",
      "RangeIndex: 197198 entries, 0 to 197197\n",
      "Data columns (total 45 columns):\n",
      " #   Column                        Non-Null Count   Dtype  \n",
      "---  ------                        --------------   -----  \n",
      " 0   id                            197198 non-null  int64  \n",
      " 1   resolution                    197198 non-null  int64  \n",
      " 2   brand_name                    116667 non-null  object \n",
      " 3   description                   171138 non-null  object \n",
      " 4   name_rus                      197198 non-null  object \n",
      " 5   CommercialTypeName4           197198 non-null  object \n",
      " 6   rating_1_count                47193 non-null   float64\n",
      " 7   rating_2_count                47193 non-null   float64\n",
      " 8   rating_3_count                47193 non-null   float64\n",
      " 9   rating_4_count                47193 non-null   float64\n",
      " 10  rating_5_count                47193 non-null   float64\n",
      " 11  comments_published_count      47193 non-null   float64\n",
      " 12  photos_published_count        47193 non-null   float64\n",
      " 13  videos_published_count        47193 non-null   float64\n",
      " 14  PriceDiscounted               197198 non-null  float64\n",
      " 15  item_time_alive               197198 non-null  int64  \n",
      " 16  item_count_fake_returns7      197198 non-null  int64  \n",
      " 17  item_count_fake_returns30     197198 non-null  int64  \n",
      " 18  item_count_fake_returns90     197198 non-null  int64  \n",
      " 19  item_count_sales7             197198 non-null  int64  \n",
      " 20  item_count_sales30            197198 non-null  int64  \n",
      " 21  item_count_sales90            197198 non-null  int64  \n",
      " 22  item_count_returns7           197198 non-null  int64  \n",
      " 23  item_count_returns30          197198 non-null  int64  \n",
      " 24  item_count_returns90          197198 non-null  int64  \n",
      " 25  GmvTotal7                     187007 non-null  float64\n",
      " 26  GmvTotal30                    189268 non-null  float64\n",
      " 27  GmvTotal90                    189791 non-null  float64\n",
      " 28  ExemplarAcceptedCountTotal7   187007 non-null  float64\n",
      " 29  ExemplarAcceptedCountTotal30  189268 non-null  float64\n",
      " 30  ExemplarAcceptedCountTotal90  189791 non-null  float64\n",
      " 31  OrderAcceptedCountTotal7      186797 non-null  float64\n",
      " 32  OrderAcceptedCountTotal30     189038 non-null  float64\n",
      " 33  OrderAcceptedCountTotal90     189681 non-null  float64\n",
      " 34  ExemplarReturnedCountTotal7   187007 non-null  float64\n",
      " 35  ExemplarReturnedCountTotal30  189268 non-null  float64\n",
      " 36  ExemplarReturnedCountTotal90  189791 non-null  float64\n",
      " 37  ExemplarReturnedValueTotal7   187007 non-null  float64\n",
      " 38  ExemplarReturnedValueTotal30  189268 non-null  float64\n",
      " 39  ExemplarReturnedValueTotal90  189791 non-null  float64\n",
      " 40  ItemVarietyCount              196201 non-null  float64\n",
      " 41  ItemAvailableCount            196201 non-null  float64\n",
      " 42  seller_time_alive             197198 non-null  float64\n",
      " 43  ItemID                        197198 non-null  int64  \n",
      " 44  SellerID                      197198 non-null  int64  \n",
      "dtypes: float64(27), int64(14), object(4)\n",
      "memory usage: 67.7+ MB\n"
     ]
    }
   ],
   "source": [
    "df_train.info()"
   ]
  },
  {
   "cell_type": "code",
   "execution_count": 4,
   "id": "27be1da7-5806-44c9-940c-14945217c138",
   "metadata": {},
   "outputs": [],
   "source": [
    "def avg_rate(row):\n",
    "    if row[\"rating_1_count\"] == None:\n",
    "        return None\n",
    "    rating = 0\n",
    "    rate_count = 0\n",
    "    for i in range(1, 6):\n",
    "        rate_key = f\"rating_{i}_count\"\n",
    "        rating += row[rate_key] * i\n",
    "        rate_count += row[rate_key]\n",
    "    return rating/rate_count\n",
    "\n",
    "def merge_ratings(df):\n",
    "    df[\"rating\"] = df[[f\"rating_{i}_count\" for i in range(1, 6)]].apply(avg_rate, axis=1)\n",
    "    df = df.drop(columns=[f\"rating_{i}_count\" for i in range(1, 6)])\n",
    "    return df"
   ]
  },
  {
   "cell_type": "code",
   "execution_count": 5,
   "id": "d8973162-c19f-4d71-a17d-67efb97cc48b",
   "metadata": {},
   "outputs": [],
   "source": [
    "# чёт скор хуже с этими изменениями\n",
    "# df_test = merge_ratings(df_test)\n",
    "# df_train = merge_ratings(df_train)"
   ]
  },
  {
   "cell_type": "code",
   "execution_count": 6,
   "id": "8f4ba25c-a0b5-4044-b9b6-6a11003fee81",
   "metadata": {},
   "outputs": [],
   "source": [
    "TARGET = \"resolution\"\n",
    "ID_COL = \"id\"\n",
    "drop_cols = [ID_COL, TARGET, \"name_rus\", \"description\", \"ItemID\", \"SellerID\", \"brand_name\", \"CommercialTypeName4\"]\n",
    "feature_cols = [c for c in df_train.columns if c not in drop_cols]"
   ]
  },
  {
   "cell_type": "code",
   "execution_count": 7,
   "id": "377b103c-c53a-4316-be25-3fc93c5d487c",
   "metadata": {},
   "outputs": [],
   "source": [
    "X = df_train[feature_cols]\n",
    "y = df_train[TARGET].astype(int)"
   ]
  },
  {
   "cell_type": "code",
   "execution_count": 8,
   "id": "e771853e-3284-49a2-a69a-903a0d66bd7b",
   "metadata": {},
   "outputs": [
    {
     "name": "stdout",
     "output_type": "stream",
     "text": [
      "[LightGBM] [Info] Number of positive: 10442, number of negative: 147316\n",
      "[LightGBM] [Info] Auto-choosing col-wise multi-threading, the overhead of testing was 0.030833 seconds.\n",
      "You can set `force_col_wise=true` to remove the overhead.\n",
      "[LightGBM] [Info] Total Bins 6781\n",
      "[LightGBM] [Info] Number of data points in the train set: 157758, number of used features: 37\n",
      "[LightGBM] [Info] [binary:BoostFromScore]: pavg=0.500000 -> initscore=0.000000\n",
      "[LightGBM] [Info] Start training from score 0.000000\n",
      "Best F1=0.6579 @ thr=0.80\n"
     ]
    }
   ],
   "source": [
    "from sklearn.model_selection import train_test_split\n",
    "from sklearn.metrics import f1_score\n",
    "from lightgbm import LGBMClassifier\n",
    "\n",
    "X_tr, X_va, y_tr, y_va = train_test_split(\n",
    "    X, y, test_size=0.2, random_state=42, stratify=y\n",
    ")\n",
    "\n",
    "lgbm = LGBMClassifier(\n",
    "    n_estimators=1000,\n",
    "    learning_rate=0.05,\n",
    "    max_depth=-1,\n",
    "    num_leaves=31,\n",
    "    subsample=0.9,\n",
    "    colsample_bytree=0.9,\n",
    "    reg_lambda=1.0,\n",
    "    random_state=42,\n",
    "    class_weight=\"balanced\",\n",
    ")\n",
    "\n",
    "lgbm.fit(\n",
    "    X_tr, y_tr,\n",
    "    eval_set=[(X_va, y_va)],\n",
    "    eval_metric=\"binary_logloss\",\n",
    ")\n",
    "\n",
    "p_va = lgbm.predict_proba(X_va)[:, 1]\n",
    "\n",
    "ths = np.linspace(0.05, 0.95, 19)\n",
    "f1_by_thr = [(t, f1_score(y_va, (p_va >= t).astype(int))) for t in ths]\n",
    "best_thr, best_f1 = max(f1_by_thr, key=lambda x: x[1])\n",
    "print(f\"Best F1={best_f1:.4f} @ thr={best_thr:.2f}\")\n"
   ]
  },
  {
   "cell_type": "code",
   "execution_count": 9,
   "id": "e74c9f61-d941-4b71-bc22-907546f3436f",
   "metadata": {},
   "outputs": [
    {
     "name": "stdout",
     "output_type": "stream",
     "text": [
      "Saved: submission.csv\n"
     ]
    }
   ],
   "source": [
    "X_test = df_test[feature_cols]\n",
    "\n",
    "p_test = lgbm.predict_proba(X_test)[:, 1]\n",
    "pred_test = (p_test >= best_thr).astype(int)\n",
    "\n",
    "submission = pd.DataFrame({\n",
    "    ID_COL: df_test[ID_COL],\n",
    "    \"prediction\": pred_test,\n",
    "})\n",
    "\n",
    "submission.to_csv(\"submission.csv\", index=False)\n",
    "print(\"Saved: submission.csv\")\n"
   ]
  },
  {
   "cell_type": "code",
   "execution_count": null,
   "id": "dc168085-702a-4ad0-b03d-e01a9b70bf94",
   "metadata": {},
   "outputs": [],
   "source": []
  }
 ],
 "metadata": {
  "kernelspec": {
   "display_name": "Python 3 (ipykernel)",
   "language": "python",
   "name": "python3"
  },
  "language_info": {
   "codemirror_mode": {
    "name": "ipython",
    "version": 3
   },
   "file_extension": ".py",
   "mimetype": "text/x-python",
   "name": "python",
   "nbconvert_exporter": "python",
   "pygments_lexer": "ipython3",
   "version": "3.12.3"
  }
 },
 "nbformat": 4,
 "nbformat_minor": 5
}
