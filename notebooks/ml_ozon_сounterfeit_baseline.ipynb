{
 "cells": [
  {
   "cell_type": "markdown",
   "id": "0710d418",
   "metadata": {},
   "source": [
    "# Базовый пайплайн для соревнования по определению контрафакта "
   ]
  },
  {
   "cell_type": "markdown",
   "id": "795adc59",
   "metadata": {},
   "source": [
    "### 1. Загрузка данных"
   ]
  },
  {
   "cell_type": "code",
   "execution_count": 36,
   "id": "da10ed03",
   "metadata": {},
   "outputs": [
    {
     "name": "stdout",
     "output_type": "stream",
     "text": [
      "Train shape: (197198, 44)\n",
      "Test shape: (22760, 43)\n",
      "Target distribution in train:\n",
      "resolution\n",
      "0    184146\n",
      "1     13052\n",
      "Name: count, dtype: int64\n",
      "\n"
     ]
    }
   ],
   "source": [
    "import pandas as pd\n",
    "import numpy as np\n",
    "from sklearn.model_selection import train_test_split\n",
    "from sklearn.ensemble import RandomForestClassifier\n",
    "from sklearn.metrics import accuracy_score, classification_report\n",
    "import warnings\n",
    "\n",
    "df_train = pd.read_csv('ml_ozon_сounterfeit_train.csv', index_col=0)\n",
    "df_test = pd.read_csv('ml_ozon_сounterfeit_test.csv', index_col=0)\n",
    "\n",
    "print(f\"Train shape: {df_train.shape}\")\n",
    "print(f\"Test shape: {df_test.shape}\")\n",
    "print(f\"Target distribution in train:\")\n",
    "print(df_train['resolution'].value_counts())\n",
    "print()"
   ]
  },
  {
   "cell_type": "markdown",
   "id": "35f2de33",
   "metadata": {},
   "source": [
    "### 2. Предобработка данных\n",
    "Используем 39 числовых признаков"
   ]
  },
  {
   "cell_type": "code",
   "execution_count": 37,
   "id": "454f9f85",
   "metadata": {},
   "outputs": [],
   "source": [
    "numeric_columns = df_train.select_dtypes(include=[np.number]).columns.tolist()\n",
    "numeric_columns = [col for col in numeric_columns if col != 'resolution']\n",
    "\n"
   ]
  },
  {
   "cell_type": "code",
   "execution_count": 38,
   "id": "495d5047",
   "metadata": {},
   "outputs": [
    {
     "name": "stdout",
     "output_type": "stream",
     "text": [
      "X_train shape: (197198, 39)\n",
      "X_test shape: (22760, 39)\n",
      "\n"
     ]
    }
   ],
   "source": [
    "X_train = df_train[numeric_columns].fillna(0)\n",
    "y_train = df_train['resolution']\n",
    "X_test = df_test[numeric_columns].fillna(0)\n",
    "\n",
    "print(f\"X_train shape: {X_train.shape}\")\n",
    "print(f\"X_test shape: {X_test.shape}\")\n",
    "print()\n"
   ]
  },
  {
   "cell_type": "markdown",
   "id": "3b66346a",
   "metadata": {},
   "source": [
    "### 3. Обучение модели"
   ]
  },
  {
   "cell_type": "code",
   "execution_count": 39,
   "id": "492c9a87",
   "metadata": {},
   "outputs": [
    {
     "name": "stdout",
     "output_type": "stream",
     "text": [
      "Validation accuracy: 0.9651\n",
      "Classification report:\n",
      "              precision    recall  f1-score   support\n",
      "\n",
      "           0       0.97      0.99      0.98     36830\n",
      "           1       0.88      0.54      0.67      2610\n",
      "\n",
      "    accuracy                           0.97     39440\n",
      "   macro avg       0.93      0.77      0.83     39440\n",
      "weighted avg       0.96      0.97      0.96     39440\n",
      "\n",
      "\n"
     ]
    }
   ],
   "source": [
    "\n",
    "X_train_split, X_val_split, y_train_split, y_val_split = train_test_split(\n",
    "    X_train, y_train, test_size=0.2, random_state=42, stratify=y_train\n",
    ")\n",
    "\n",
    "model = RandomForestClassifier(n_estimators=100, random_state=42)\n",
    "model.fit(X_train_split, y_train_split)\n",
    "\n",
    "val_pred = model.predict(X_val_split)\n",
    "val_accuracy = accuracy_score(y_val_split, val_pred)\n",
    "\n",
    "print(f\"Validation accuracy: {val_accuracy:.4f}\")\n",
    "print(\"Classification report:\")\n",
    "print(classification_report(y_val_split, val_pred))\n",
    "print()\n"
   ]
  },
  {
   "cell_type": "markdown",
   "id": "4785f1cb",
   "metadata": {},
   "source": [
    "### 4. Формирование submission.csv"
   ]
  },
  {
   "cell_type": "code",
   "execution_count": 40,
   "id": "eeb33221",
   "metadata": {},
   "outputs": [
    {
     "name": "stdout",
     "output_type": "stream",
     "text": [
      "Создан файл submission.csv с 22760 предсказаниями\n",
      "Распределение предсказаний:\n",
      "prediction\n",
      "0    22465\n",
      "1      295\n",
      "Name: count, dtype: int64\n",
      "\n"
     ]
    }
   ],
   "source": [
    "\n",
    "test_predictions = model.predict(X_test)\n",
    "\n",
    "submission = pd.DataFrame({\n",
    "    'id': df_test.index,\n",
    "    'prediction': test_predictions\n",
    "})\n",
    "\n",
    "submission.to_csv('submission.csv', index=False)\n",
    "\n",
    "\n",
    "print(f\"Создан файл submission.csv с {len(submission)} предсказаниями\")\n",
    "print(f\"Распределение предсказаний:\")\n",
    "print(submission['prediction'].value_counts())\n",
    "print()"
   ]
  }
 ],
 "metadata": {
  "kernelspec": {
   "display_name": "base",
   "language": "python",
   "name": "python3"
  },
  "language_info": {
   "codemirror_mode": {
    "name": "ipython",
    "version": 3
   },
   "file_extension": ".py",
   "mimetype": "text/x-python",
   "name": "python",
   "nbconvert_exporter": "python",
   "pygments_lexer": "ipython3",
   "version": "3.12.9"
  }
 },
 "nbformat": 4,
 "nbformat_minor": 5
}
