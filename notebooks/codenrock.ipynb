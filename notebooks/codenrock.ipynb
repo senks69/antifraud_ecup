{
 "cells": [
  {
   "cell_type": "code",
   "execution_count": 1,
   "id": "b165c84e-a6c9-4db0-89f0-e36b7479b438",
   "metadata": {},
   "outputs": [],
   "source": [
    "import pandas as pd\n",
    "from sklearn.feature_extraction.text import TfidfVectorizer\n",
    "from sklearn.preprocessing import StandardScaler\n",
    "from scipy.sparse import hstack, csr_matrix\n",
    "from sklearn.model_selection import train_test_split\n",
    "from sklearn.ensemble import RandomForestClassifier\n",
    "from sklearn.linear_model import LogisticRegression\n",
    "from sklearn.metrics import f1_score, classification_report\n",
    "import pickle\n",
    "import joblib"
   ]
  },
  {
   "cell_type": "code",
   "execution_count": 2,
   "id": "83eb0c14-6d6a-4569-b30a-36c49ef8565a",
   "metadata": {},
   "outputs": [],
   "source": [
    "df = pd.read_csv('cleaned_ozon_data_TRAIN.csv')"
   ]
  },
  {
   "cell_type": "markdown",
   "id": "25190d74-aa15-4d97-9317-e29267a7586a",
   "metadata": {},
   "source": [
    "### Выбираем все столбцы с текстовыми данными и векторизуем их"
   ]
  },
  {
   "cell_type": "code",
   "execution_count": 5,
   "id": "644d6e50-3963-48df-8666-bd6e618d5e73",
   "metadata": {},
   "outputs": [],
   "source": [
    "df['all_text'] = (\n",
    "    df['description'].fillna('') + ' ' +\n",
    "    df['name_rus'].fillna('') + ' ' +\n",
    "    df['brand_name'].fillna('') + ' ' +\n",
    "    df['CommercialTypeName4'].fillna('')\n",
    ")\n",
    "\n",
    "tfidf = TfidfVectorizer(\n",
    "    max_features=1000,\n",
    "    ngram_range=(1, 2),\n",
    "    min_df=2\n",
    ")\n",
    "\n",
    "X_text = tfidf.fit_transform(df['all_text'])"
   ]
  },
  {
   "cell_type": "markdown",
   "id": "2000cb9a-db2f-4b27-bd4e-df3b792fafd8",
   "metadata": {},
   "source": [
    "### Объединяем числовые и текстовые признаки"
   ]
  },
  {
   "cell_type": "code",
   "execution_count": 6,
   "id": "5f27db11-6abf-4ee8-a0ac-5a5404ad6e78",
   "metadata": {},
   "outputs": [],
   "source": [
    "numeric_features = [\n",
    "    'rating_1_count', 'rating_2_count', 'rating_3_count', 'rating_4_count', 'rating_5_count',\n",
    "    'comments_published_count', 'photos_published_count', 'videos_published_count',\n",
    "    'PriceDiscounted', 'item_time_alive', 'item_count_sales30', 'GmvTotal30'\n",
    "]\n",
    "\n",
    "numeric_features = [f for f in numeric_features if f in df.columns]\n",
    "\n",
    "X_numeric = df[numeric_features].fillna(0).values\n",
    "scaler = StandardScaler()\n",
    "X_numeric_scaled = scaler.fit_transform(X_numeric)\n",
    "\n",
    "X_combined = hstack([X_text, csr_matrix(X_numeric_scaled)])"
   ]
  },
  {
   "cell_type": "markdown",
   "id": "5d31092d-cd26-49da-a5b6-f2d8f0998448",
   "metadata": {},
   "source": [
    "### Разделяем тестовую и тренировочную переменную"
   ]
  },
  {
   "cell_type": "code",
   "execution_count": 7,
   "id": "efcd2553-cbb1-43f3-a9af-8fb4da722049",
   "metadata": {},
   "outputs": [],
   "source": [
    "# Целевая переменная\n",
    "y = df['resolution'].values\n",
    "\n",
    "# Разделяем данные\n",
    "X_train, X_test, y_train, y_test = train_test_split(\n",
    "    X_combined, y, \n",
    "    test_size=0.2, \n",
    "    random_state=42,\n",
    "    stratify=y  \n",
    ")"
   ]
  },
  {
   "cell_type": "markdown",
   "id": "f6cc5c85-fe03-42a9-ae8f-8c4d9cf615c8",
   "metadata": {},
   "source": [
    "### Обучение модели (самый простой способ)"
   ]
  },
  {
   "cell_type": "code",
   "execution_count": null,
   "id": "26842a29-6f41-41af-81d2-9c46765ecb7f",
   "metadata": {},
   "outputs": [],
   "source": [
    "model = RandomForestClassifier(\n",
    "    n_estimators=100,\n",
    "    max_depth=10,\n",
    "    random_state=42,\n",
    "    class_weight='balanced'\n",
    ")\n",
    "\n",
    "model.fit(X_train, y_train)\n",
    "\n",
    "y_pred = model.predict(X_test)\n",
    "\n",
    "f1 = f1_score(y_test, y_pred)\n",
    "print(f\"F1-score: {f1:.4f}\")\n",
    "print(\"\\nClassification Report:\")\n",
    "print(classification_report(y_test, y_pred))"
   ]
  },
  {
   "cell_type": "markdown",
   "id": "5023c28b-f4ef-4a4f-aeb8-b4f03c9d303e",
   "metadata": {},
   "source": [
    "### Пайплайн модели"
   ]
  },
  {
   "cell_type": "code",
   "execution_count": null,
   "id": "40ab8595-328b-4b28-b3d7-65f7d6ee3779",
   "metadata": {},
   "outputs": [],
   "source": [
    "pipeline = {\n",
    "    'tfidf': tfidf,\n",
    "    'scaler': scaler,\n",
    "    'model': model,\n",
    "    'numeric_features': numeric_features\n",
    "}"
   ]
  },
  {
   "cell_type": "markdown",
   "id": "f01ebb60-d804-466d-8925-9bdfd5ca699b",
   "metadata": {},
   "source": [
    "### Читаем тестовые данные"
   ]
  },
  {
   "cell_type": "code",
   "execution_count": null,
   "id": "6743936f-6064-491e-9062-6e17cb2a1da0",
   "metadata": {},
   "outputs": [],
   "source": [
    "new_data = pd.read_csv('cleaned_ozon_data.csv')"
   ]
  },
  {
   "cell_type": "markdown",
   "id": "0e8d1339-5e0b-4e07-bc4a-4a9751afa28d",
   "metadata": {},
   "source": [
    "### Выбираем нужные колонки из тестовых данных"
   ]
  },
  {
   "cell_type": "code",
   "execution_count": null,
   "id": "fbf5bbc4-93aa-4018-8a2b-6148c869e033",
   "metadata": {},
   "outputs": [],
   "source": [
    "new_data['combined_text'] = (\n",
    "    new_data['description'].fillna('') + ' ' +\n",
    "    new_data['name_rus'].fillna('') + ' ' +\n",
    "    new_data['brand_name'].fillna('') + ' ' +\n",
    "    new_data['CommercialTypeName4'].fillna('')\n",
    ")"
   ]
  },
  {
   "cell_type": "markdown",
   "id": "65631365-365f-4ec9-b606-3132cc94cba7",
   "metadata": {},
   "source": [
    "### Преобразование признаков"
   ]
  },
  {
   "cell_type": "code",
   "execution_count": null,
   "id": "df03a202-7489-4977-9ef0-d1d8da9927cf",
   "metadata": {},
   "outputs": [],
   "source": [
    "X_new_text = pipeline['tfidf'].transform(new_data['combined_text'])\n",
    "X_new_numeric = pipeline['scaler'].transform(new_data[pipeline['numeric_features']].fillna(0))\n",
    "X_new_combined = hstack([X_new_text, csr_matrix(X_new_numeric)])"
   ]
  },
  {
   "cell_type": "markdown",
   "id": "0e12c715-1bb3-41e4-b492-95b076da876b",
   "metadata": {},
   "source": [
    "### Использование пайплайна"
   ]
  },
  {
   "cell_type": "code",
   "execution_count": null,
   "id": "6dcaf542-68dc-4a96-b070-0e29d1fdb7cd",
   "metadata": {},
   "outputs": [],
   "source": [
    "prediction = pipeline['model'].predict(X_new_combined)\n",
    "prediction_proba = pipeline['model'].predict_proba(X_new_combined)\n",
    "\n",
    "print(f\"Предсказание: {'Контрафакт' if prediction[0] == 1 else 'Оригинал'}\")\n",
    "print(f\"Вероятности: {prediction_proba[0]}\")"
   ]
  },
  {
   "cell_type": "markdown",
   "id": "d36db9b9-8572-4a76-a15b-346e38a89660",
   "metadata": {},
   "source": [
    "### Файл Submition"
   ]
  },
  {
   "cell_type": "code",
   "execution_count": null,
   "id": "7970550b-7c65-4bc6-8c9a-b4c874c77fa2",
   "metadata": {},
   "outputs": [],
   "source": [
    "submission = pd.DataFrame({\n",
    "    'id': new_data['id'],  # используем id из тестовых данных\n",
    "    'prediction': prediction\n",
    "})\n",
    "\n",
    "submission.to_csv('submission.csv', index=False)\n",
    "print(\"Файл submission.csv создан!\")\n",
    "print(f\"Количество строк в submission: {len(submission)}\")"
   ]
  }
 ],
 "metadata": {
  "kernelspec": {
   "display_name": "Python 3 (ipykernel)",
   "language": "python",
   "name": "python3"
  },
  "language_info": {
   "codemirror_mode": {
    "name": "ipython",
    "version": 3
   },
   "file_extension": ".py",
   "mimetype": "text/x-python",
   "name": "python",
   "nbconvert_exporter": "python",
   "pygments_lexer": "ipython3",
   "version": "3.13.5"
  }
 },
 "nbformat": 4,
 "nbformat_minor": 5
}
