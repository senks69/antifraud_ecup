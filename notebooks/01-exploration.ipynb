{
 "cells": [
  {
   "cell_type": "code",
   "execution_count": 4,
   "id": "3214f708-a09c-44f1-954f-2d05e4ec82c0",
   "metadata": {},
   "outputs": [],
   "source": [
    "from pathlib import Path\n",
    "import pandas as pd"
   ]
  },
  {
   "cell_type": "code",
   "execution_count": 2,
   "id": "aeeabf2b-8a47-44d5-b6f4-f1652411b01f",
   "metadata": {},
   "outputs": [],
   "source": [
    "DATA_DIR = Path().resolve().parent / \"data\""
   ]
  },
  {
   "cell_type": "code",
   "execution_count": 6,
   "id": "78c0ce69-9e4a-4f4a-aae7-f0efce9be3c5",
   "metadata": {},
   "outputs": [],
   "source": [
    "train_csv = DATA_DIR / \"raw\" / \"ml_ozon_сounterfeit_train.csv\""
   ]
  },
  {
   "cell_type": "code",
   "execution_count": 7,
   "id": "9e25e4cc-7f51-4191-94e5-9ee1ea42b6b6",
   "metadata": {},
   "outputs": [],
   "source": [
    "df = pd.read_csv(train_csv)"
   ]
  },
  {
   "cell_type": "code",
   "execution_count": 8,
   "id": "d06d8887-8532-49f9-9dca-f84c49b60361",
   "metadata": {},
   "outputs": [
    {
     "data": {
      "text/plain": [
       "(197198, 45)"
      ]
     },
     "execution_count": 8,
     "metadata": {},
     "output_type": "execute_result"
    }
   ],
   "source": [
    "df.shape"
   ]
  },
  {
   "cell_type": "code",
   "execution_count": 9,
   "id": "1cd1c280-0512-4ff3-9252-a9af083bf098",
   "metadata": {},
   "outputs": [
    {
     "data": {
      "text/html": [
       "<div>\n",
       "<style scoped>\n",
       "    .dataframe tbody tr th:only-of-type {\n",
       "        vertical-align: middle;\n",
       "    }\n",
       "\n",
       "    .dataframe tbody tr th {\n",
       "        vertical-align: top;\n",
       "    }\n",
       "\n",
       "    .dataframe thead th {\n",
       "        text-align: right;\n",
       "    }\n",
       "</style>\n",
       "<table border=\"1\" class=\"dataframe\">\n",
       "  <thead>\n",
       "    <tr style=\"text-align: right;\">\n",
       "      <th></th>\n",
       "      <th>id</th>\n",
       "      <th>resolution</th>\n",
       "      <th>brand_name</th>\n",
       "      <th>description</th>\n",
       "      <th>name_rus</th>\n",
       "      <th>CommercialTypeName4</th>\n",
       "      <th>rating_1_count</th>\n",
       "      <th>rating_2_count</th>\n",
       "      <th>rating_3_count</th>\n",
       "      <th>rating_4_count</th>\n",
       "      <th>...</th>\n",
       "      <th>ExemplarReturnedCountTotal30</th>\n",
       "      <th>ExemplarReturnedCountTotal90</th>\n",
       "      <th>ExemplarReturnedValueTotal7</th>\n",
       "      <th>ExemplarReturnedValueTotal30</th>\n",
       "      <th>ExemplarReturnedValueTotal90</th>\n",
       "      <th>ItemVarietyCount</th>\n",
       "      <th>ItemAvailableCount</th>\n",
       "      <th>seller_time_alive</th>\n",
       "      <th>ItemID</th>\n",
       "      <th>SellerID</th>\n",
       "    </tr>\n",
       "  </thead>\n",
       "  <tbody>\n",
       "    <tr>\n",
       "      <th>0</th>\n",
       "      <td>159385</td>\n",
       "      <td>0</td>\n",
       "      <td>ACTRUM</td>\n",
       "      <td>Мешки пылесборники для пылесоса PHILIPS, 10 шт...</td>\n",
       "      <td>Мешки для пылесоса PHILIPS TRIATLON, синтетиче...</td>\n",
       "      <td>Пылесборник</td>\n",
       "      <td>6.0</td>\n",
       "      <td>4.0</td>\n",
       "      <td>4.0</td>\n",
       "      <td>3.0</td>\n",
       "      <td>...</td>\n",
       "      <td>11.0</td>\n",
       "      <td>50.0</td>\n",
       "      <td>730.171845</td>\n",
       "      <td>896.528847</td>\n",
       "      <td>1043.118191</td>\n",
       "      <td>1.0</td>\n",
       "      <td>1.0</td>\n",
       "      <td>1860.0</td>\n",
       "      <td>78312</td>\n",
       "      <td>1218</td>\n",
       "    </tr>\n",
       "    <tr>\n",
       "      <th>1</th>\n",
       "      <td>288616</td>\n",
       "      <td>0</td>\n",
       "      <td>Red Line</td>\n",
       "      <td>Защитная силиконовая крышка обьектива GoPro He...</td>\n",
       "      <td>Защитная крышка Redline на экшн-камеру GoPro (...</td>\n",
       "      <td>Крышка для объектива</td>\n",
       "      <td>NaN</td>\n",
       "      <td>NaN</td>\n",
       "      <td>NaN</td>\n",
       "      <td>NaN</td>\n",
       "      <td>...</td>\n",
       "      <td>26.0</td>\n",
       "      <td>54.0</td>\n",
       "      <td>993.043882</td>\n",
       "      <td>1137.421611</td>\n",
       "      <td>1188.608000</td>\n",
       "      <td>1.0</td>\n",
       "      <td>1.0</td>\n",
       "      <td>1757.0</td>\n",
       "      <td>141999</td>\n",
       "      <td>1374</td>\n",
       "    </tr>\n",
       "    <tr>\n",
       "      <th>2</th>\n",
       "      <td>108090</td>\n",
       "      <td>0</td>\n",
       "      <td>Talwar Brothers</td>\n",
       "      <td>Плоский медиатор из кости толщиной 0.6 мм&lt;br/&gt;...</td>\n",
       "      <td>Медиатор для гитары Acura GP-PB6</td>\n",
       "      <td>Аксессуар для музыкального инструмента</td>\n",
       "      <td>0.0</td>\n",
       "      <td>0.0</td>\n",
       "      <td>1.0</td>\n",
       "      <td>0.0</td>\n",
       "      <td>...</td>\n",
       "      <td>16.0</td>\n",
       "      <td>34.0</td>\n",
       "      <td>800.822138</td>\n",
       "      <td>1174.069505</td>\n",
       "      <td>1224.798286</td>\n",
       "      <td>1.0</td>\n",
       "      <td>1.0</td>\n",
       "      <td>1722.0</td>\n",
       "      <td>53306</td>\n",
       "      <td>1448</td>\n",
       "    </tr>\n",
       "  </tbody>\n",
       "</table>\n",
       "<p>3 rows × 45 columns</p>\n",
       "</div>"
      ],
      "text/plain": [
       "       id  resolution       brand_name  \\\n",
       "0  159385           0           ACTRUM   \n",
       "1  288616           0         Red Line   \n",
       "2  108090           0  Talwar Brothers   \n",
       "\n",
       "                                         description  \\\n",
       "0  Мешки пылесборники для пылесоса PHILIPS, 10 шт...   \n",
       "1  Защитная силиконовая крышка обьектива GoPro He...   \n",
       "2  Плоский медиатор из кости толщиной 0.6 мм<br/>...   \n",
       "\n",
       "                                            name_rus  \\\n",
       "0  Мешки для пылесоса PHILIPS TRIATLON, синтетиче...   \n",
       "1  Защитная крышка Redline на экшн-камеру GoPro (...   \n",
       "2                   Медиатор для гитары Acura GP-PB6   \n",
       "\n",
       "                      CommercialTypeName4  rating_1_count  rating_2_count  \\\n",
       "0                             Пылесборник             6.0             4.0   \n",
       "1                    Крышка для объектива             NaN             NaN   \n",
       "2  Аксессуар для музыкального инструмента             0.0             0.0   \n",
       "\n",
       "   rating_3_count  rating_4_count  ...  ExemplarReturnedCountTotal30  \\\n",
       "0             4.0             3.0  ...                          11.0   \n",
       "1             NaN             NaN  ...                          26.0   \n",
       "2             1.0             0.0  ...                          16.0   \n",
       "\n",
       "   ExemplarReturnedCountTotal90  ExemplarReturnedValueTotal7  \\\n",
       "0                          50.0                   730.171845   \n",
       "1                          54.0                   993.043882   \n",
       "2                          34.0                   800.822138   \n",
       "\n",
       "   ExemplarReturnedValueTotal30  ExemplarReturnedValueTotal90  \\\n",
       "0                    896.528847                   1043.118191   \n",
       "1                   1137.421611                   1188.608000   \n",
       "2                   1174.069505                   1224.798286   \n",
       "\n",
       "   ItemVarietyCount  ItemAvailableCount  seller_time_alive  ItemID  SellerID  \n",
       "0               1.0                 1.0             1860.0   78312      1218  \n",
       "1               1.0                 1.0             1757.0  141999      1374  \n",
       "2               1.0                 1.0             1722.0   53306      1448  \n",
       "\n",
       "[3 rows x 45 columns]"
      ]
     },
     "execution_count": 9,
     "metadata": {},
     "output_type": "execute_result"
    }
   ],
   "source": [
    "df.head(3)"
   ]
  },
  {
   "cell_type": "code",
   "execution_count": null,
   "id": "e5892aa3-a1db-4909-a477-3146d7f6d53a",
   "metadata": {},
   "outputs": [],
   "source": []
  }
 ],
 "metadata": {
  "kernelspec": {
   "display_name": "Python 3 (ipykernel)",
   "language": "python",
   "name": "python3"
  },
  "language_info": {
   "codemirror_mode": {
    "name": "ipython",
    "version": 3
   },
   "file_extension": ".py",
   "mimetype": "text/x-python",
   "name": "python",
   "nbconvert_exporter": "python",
   "pygments_lexer": "ipython3",
   "version": "3.12.3"
  }
 },
 "nbformat": 4,
 "nbformat_minor": 5
}
